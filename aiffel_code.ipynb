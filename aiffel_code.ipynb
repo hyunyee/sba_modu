{
 "cells": [
  {
   "cell_type": "markdown",
   "metadata": {},
   "source": [
    "# AIFFEL코드 연습    \n",
    "\n",
    "https://sbabasic.aiffel.io/steps/189"
   ]
  },
  {
   "cell_type": "markdown",
   "metadata": {},
   "source": [
    "## 1. 9/8(화) 깜짝퀴즈    \n",
    "두 정수 a, b가 주어졌을 때 a와 b 사이에 속한 모든 정수의 합을 리턴하는 함수, solution을 완성하세요.\n",
    "예를 들어 a = 3, b = 5인 경우, 3 + 4 + 5 = 12이므로 12를 리턴합니다.\n",
    "앞으로 정답의 형태는 오늘 배운 함수로!! 진행해주시면 됩니다. 예를 들어 위의 문제 같은 경우는 입력값을 a, b로 받고 리턴은 12를 한다했으므로\n",
    "def solution(a, b):\n",
    "    ...\n",
    "    return answer\n",
    "의 꼴로 짜주시면 됩니다! 그러니 solution(3, 5) 의 결과는 12가 나와야겠죠?\n",
    "+++\n",
    "결과를 .py 포맷으로 저장하시고 개인 github repository에 업로드하는 것까지 해봅시다!"
   ]
  },
  {
   "cell_type": "code",
   "execution_count": 1,
   "metadata": {},
   "outputs": [],
   "source": [
    "## 풀이1\n",
    "\n",
    "def solution(a,b):\n",
    "    answer = a\n",
    "    while a<b:\n",
    "        a +=1\n",
    "        answer +=a\n",
    "    return answer\n",
    "        "
   ]
  },
  {
   "cell_type": "code",
   "execution_count": 2,
   "metadata": {},
   "outputs": [
    {
     "data": {
      "text/plain": [
       "12"
      ]
     },
     "execution_count": 2,
     "metadata": {},
     "output_type": "execute_result"
    }
   ],
   "source": [
    "solution(3,5)"
   ]
  },
  {
   "cell_type": "code",
   "execution_count": 10,
   "metadata": {},
   "outputs": [],
   "source": [
    "## 풀이2\n",
    "\n",
    "def solution(a,b):\n",
    "    if a>=b:\n",
    "        answer=a\n",
    "    else:\n",
    "        answer=a\n",
    "        while a<b:\n",
    "            a +=1\n",
    "            answer +=a\n",
    "    return answer"
   ]
  },
  {
   "cell_type": "code",
   "execution_count": 11,
   "metadata": {},
   "outputs": [
    {
     "data": {
      "text/plain": [
       "12"
      ]
     },
     "execution_count": 11,
     "metadata": {},
     "output_type": "execute_result"
    }
   ],
   "source": [
    "solution(3,5)"
   ]
  },
  {
   "cell_type": "code",
   "execution_count": null,
   "metadata": {},
   "outputs": [],
   "source": []
  },
  {
   "cell_type": "code",
   "execution_count": null,
   "metadata": {},
   "outputs": [],
   "source": []
  },
  {
   "cell_type": "code",
   "execution_count": null,
   "metadata": {},
   "outputs": [],
   "source": []
  }
 ],
 "metadata": {
  "kernelspec": {
   "display_name": "aiffel",
   "language": "python",
   "name": "aiffel"
  },
  "language_info": {
   "codemirror_mode": {
    "name": "ipython",
    "version": 3
   },
   "file_extension": ".py",
   "mimetype": "text/x-python",
   "name": "python",
   "nbconvert_exporter": "python",
   "pygments_lexer": "ipython3",
   "version": "3.7.8"
  }
 },
 "nbformat": 4,
 "nbformat_minor": 4
}
