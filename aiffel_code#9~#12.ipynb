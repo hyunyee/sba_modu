{
 "cells": [
  {
   "cell_type": "markdown",
   "metadata": {},
   "source": [
    "# 9.사이킷런으로 구현해 보는 머신러닝"
   ]
  },
  {
   "cell_type": "markdown",
   "metadata": {},
   "source": [
    "# 9-6. 사이킷런의 주요 모듈 (2) 회귀 모델 실습"
   ]
  },
  {
   "cell_type": "code",
   "execution_count": 2,
   "metadata": {},
   "outputs": [],
   "source": [
    "import numpy as np\n",
    "import matplotlib.pyplot as plt"
   ]
  },
  {
   "cell_type": "code",
   "execution_count": 3,
   "metadata": {},
   "outputs": [],
   "source": [
    "r= np.random.RandomState(10)\n",
    "# numpy.random.RandomState는 class명으로\n",
    "# 랜덤넘버 생성기인 랜덤함수들을 포함하는 클래스라고 할 수 있다.\n",
    "# RandomState는 다양한 확률분포측면에 수 많은 랜덤넘버 생성기들을 가지고 있다.\n",
    "# ex) numpy.random.uniform(균등분포에서 변수 추출),\n",
    "#    numpy.random.nomal(정규분포에서 변수 추출), 등"
   ]
  },
  {
   "cell_type": "code",
   "execution_count": 5,
   "metadata": {},
   "outputs": [
    {
     "data": {
      "text/plain": [
       "<matplotlib.collections.PathCollection at 0x7f73baed8a90>"
      ]
     },
     "execution_count": 5,
     "metadata": {},
     "output_type": "execute_result"
    },
    {
     "data": {
      "image/png": "[encoded data removed]",
      "text/plain": [
       "<Figure size 432x288 with 1 Axes>"
      ]
     },
     "metadata": {
      "needs_background": "light"
     },
     "output_type": "display_data"
    }
   ],
   "source": [
    "x = 10 * r.rand(100)\n",
    "y = 2 * x -3 * r.rand(100)\n",
    "plt.scatter(x,y)"
   ]
  },
  {
   "cell_type": "code",
   "execution_count": 6,
   "metadata": {},
   "outputs": [
    {
     "data": {
      "text/plain": [
       "(100,)"
      ]
     },
     "execution_count": 6,
     "metadata": {},
     "output_type": "execute_result"
    }
   ],
   "source": [
    "x.shape"
   ]
  },
  {
   "cell_type": "code",
   "execution_count": 38,
   "metadata": {},
   "outputs": [
    {
     "data": {
      "text/plain": [
       "array([7.71320643, 0.20751949, 6.33648235, 7.48803883, 4.98507012,\n",
       "       2.24796646, 1.98062865, 7.60530712, 1.69110837, 0.88339814,\n",
       "       6.85359818, 9.53393346, 0.03948266, 5.12192263, 8.12620962,\n",
       "       6.12526067, 7.21755317, 2.91876068, 9.17774123, 7.14575783,\n",
       "       5.42544368, 1.42170048, 3.7334076 , 6.74133615, 4.41833174,\n",
       "       4.34013993, 6.17766978, 5.13138243, 6.50397182, 6.01038953,\n",
       "       8.05223197, 5.21647152, 9.08648881, 3.19236089, 0.90459349,\n",
       "       3.00700057, 1.13984362, 8.28681326, 0.46896319, 6.26287148,\n",
       "       5.47586156, 8.19286996, 1.9894754 , 8.56850302, 3.51652639,\n",
       "       7.54647692, 2.95961707, 8.8393648 , 3.25511638, 1.65015898,\n",
       "       3.92529244, 0.93460375, 8.21105658, 1.5115202 , 3.84114449,\n",
       "       9.44260712, 9.87625475, 4.56304547, 8.26122844, 2.51374134,\n",
       "       5.97371648, 9.0283176 , 5.34557949, 5.90201363, 0.39281767,\n",
       "       3.57181759, 0.7961309 , 3.05459918, 3.30719312, 7.73830296,\n",
       "       0.39959209, 4.29492178, 3.14926872, 6.36491143, 3.4634715 ,\n",
       "       0.43097356, 8.79915175, 7.63240587, 8.78096643, 4.17509144,\n",
       "       6.05577564, 5.13466627, 5.97836648, 2.62215661, 3.00871309,\n",
       "       0.25399782, 3.03062561, 2.42075875, 5.57578189, 5.6550702 ,\n",
       "       4.75132247, 2.92797976, 0.64251061, 9.78819146, 3.39707844,\n",
       "       4.95048631, 9.77080726, 4.40773825, 3.18272805, 5.19796986])"
      ]
     },
     "execution_count": 38,
     "metadata": {},
     "output_type": "execute_result"
    }
   ],
   "source": [
    "x"
   ]
  },
  {
   "cell_type": "code",
   "execution_count": null,
   "metadata": {},
   "outputs": [],
   "source": []
  },
  {
   "cell_type": "code",
   "execution_count": 9,
   "metadata": {},
   "outputs": [
    {
     "data": {
      "text/plain": [
       "(100,)"
      ]
     },
     "execution_count": 9,
     "metadata": {},
     "output_type": "execute_result"
    }
   ],
   "source": [
    "y.shape"
   ]
  },
  {
   "cell_type": "code",
   "execution_count": 12,
   "metadata": {},
   "outputs": [
    {
     "data": {
      "text/plain": [
       "LinearRegression()"
      ]
     },
     "execution_count": 12,
     "metadata": {},
     "output_type": "execute_result"
    }
   ],
   "source": [
    "# 모델 만들기\n",
    "from sklearn.linear_model import LinearRegression\n",
    "model = LinearRegression()\n",
    "model"
   ]
  },
  {
   "cell_type": "code",
   "execution_count": 13,
   "metadata": {},
   "outputs": [],
   "source": [
    "# 모델 훈련시키기\n",
    "# x가 ndarray라서 에러가 발생하므로 x -> X로 변경하면서 행렬모양으로 변형시켜줘야 함.\n",
    "X = x.reshape(100,1)"
   ]
  },
  {
   "cell_type": "code",
   "execution_count": 17,
   "metadata": {},
   "outputs": [
    {
     "data": {
      "text/plain": [
       "LinearRegression()"
      ]
     },
     "execution_count": 17,
     "metadata": {},
     "output_type": "execute_result"
    }
   ],
   "source": [
    "# X를 fit의 인자로 넣어줌.\n",
    "model.fit(X,y)"
   ]
  },
  {
   "cell_type": "code",
   "execution_count": 20,
   "metadata": {},
   "outputs": [],
   "source": [
    "# 새로운 데이터를 넣고 예측하기\n",
    "x_new = np.linspace(-1, 11, 100)  # linspace(start, stop, num(개수))로 사용되며 지정한 숫자사이에 일정한 간격으로 원하는 개수만큼 숫자를 생성\n",
    "X_new = x_new.reshape(100,1)\n",
    "y_new = model.predict(X_new)"
   ]
  },
  {
   "cell_type": "code",
   "execution_count": 21,
   "metadata": {},
   "outputs": [],
   "source": [
    "# 모델의 성능 평가\n",
    "from sklearn.metrics import mean_squared_error\n",
    "\n",
    "error = np.sqrt(mean_squared_error(y, y_new))"
   ]
  },
  {
   "cell_type": "code",
   "execution_count": 23,
   "metadata": {},
   "outputs": [
    {
     "data": {
      "text/plain": [
       "9.299028215052264"
      ]
     },
     "execution_count": 23,
     "metadata": {},
     "output_type": "execute_result"
    }
   ],
   "source": [
    "error"
   ]
  },
  {
   "cell_type": "code",
   "execution_count": 28,
   "metadata": {
    "scrolled": true
   },
   "outputs": [
    {
     "data": {
      "text/plain": [
       "[<matplotlib.lines.Line2D at 0x7f7383dbf710>]"
      ]
     },
     "execution_count": 28,
     "metadata": {},
     "output_type": "execute_result"
    },
    {
     "data": {
      "image/png": "[encoded data removed]",
      "text/plain": [
       "<Figure size 432x288 with 1 Axes>"
      ]
     },
     "metadata": {
      "needs_background": "light"
     },
     "output_type": "display_data"
    }
   ],
   "source": [
    "plt.scatter(x, y, label='input data')\n",
    "plt.plot(X_new, y_new, color='red', label='regression line')"
   ]
  },
  {
   "cell_type": "markdown",
   "metadata": {},
   "source": [
    "# 10.9 함수의 역할"
   ]
  },
  {
   "cell_type": "code",
   "execution_count": 29,
   "metadata": {},
   "outputs": [],
   "source": [
    "import numpy as np\n",
    "\n",
    "def linear_transformation(X, A):   # X벡터를 A좌표로 변형하는 함수 생성\n",
    "    transformed_vector = np.matmul(X, A)\n",
    "    return transformed_vector"
   ]
  },
  {
   "cell_type": "code",
   "execution_count": 33,
   "metadata": {},
   "outputs": [
    {
     "name": "stdout",
     "output_type": "stream",
     "text": [
      "[-1  2] [-1, 2]\n"
     ]
    }
   ],
   "source": [
    "X = np.array([-1,  2])\n",
    "X1 =[-1, 2]\n",
    "\n",
    "print(X, X1)"
   ]
  },
  {
   "cell_type": "code",
   "execution_count": 36,
   "metadata": {},
   "outputs": [
    {
     "name": "stdout",
     "output_type": "stream",
     "text": [
      "[[ 1 -2]\n",
      " [ 3  0]] [[1, 3], [-2, 0]]\n",
      "<class 'numpy.ndarray'> <class 'list'>\n",
      "[[ 1  3]\n",
      " [-2  0]]\n"
     ]
    }
   ],
   "source": [
    "A =np.array( [[1,-2], \n",
    "             [3, 0]])\n",
    "\n",
    "A1 = [[1, 3],[-2, 0]]\n",
    "\n",
    "print(A, A1)\n",
    "print(type(A), type(A1))\n",
    "print(np.array(A1))\n"
   ]
  },
  {
   "cell_type": "markdown",
   "metadata": {},
   "source": [
    "# 11.3 텍스트데이터 -문자열"
   ]
  },
  {
   "cell_type": "code",
   "execution_count": 60,
   "metadata": {},
   "outputs": [],
   "source": [
    "import re"
   ]
  },
  {
   "cell_type": "code",
   "execution_count": 61,
   "metadata": {},
   "outputs": [
    {
     "data": {
      "text/plain": [
       "['doingharu@aiffel.com', 'tomorrow@aiffel.com']"
      ]
     },
     "execution_count": 61,
     "metadata": {},
     "output_type": "execute_result"
    }
   ],
   "source": [
    "#- 이메일(알파벳, 숫자, 기호)\n",
    "text = \"My e-mail adress is doingharu@aiffel.com, and tomorrow@aiffel.com\"\n",
    "pattern = re.compile(\"[0-9a-zA-Z]+@[0-9a-z]+\\.[0-9a-z]+\")\n",
    "pattern.findall(text)"
   ]
  },
  {
   "cell_type": "code",
   "execution_count": 115,
   "metadata": {},
   "outputs": [
    {
     "name": "stdout",
     "output_type": "stream",
     "text": [
      "010-111-1111\n",
      "------\n"
     ]
    }
   ],
   "source": [
    "#- 전화번호(숫자, 기호)\n",
    "phonenumber = re.compile(r'\\d\\d\\d-\\d\\d\\d-\\d\\d\\d\\d')\n",
    "phone = phonenumber.search('This is my phone number 010-111-1111')\n",
    "\n",
    "if phone is not None:\n",
    "    print(phone.group())\n",
    "print('------')\n",
    "phone = phonenumber.match('This is my phone number 010-111-1111')\n",
    "if phone:\n",
    "    print(phone.group())"
   ]
  },
  {
   "cell_type": "code",
   "execution_count": 107,
   "metadata": {},
   "outputs": [
    {
     "data": {
      "text/plain": [
       "re.Match"
      ]
     },
     "execution_count": 107,
     "metadata": {},
     "output_type": "execute_result"
    }
   ],
   "source": [
    "type(phone)"
   ]
  },
  {
   "cell_type": "code",
   "execution_count": 109,
   "metadata": {},
   "outputs": [
    {
     "name": "stdout",
     "output_type": "stream",
     "text": [
      "AA\n"
     ]
    }
   ],
   "source": [
    "if phone:\n",
    "    print('AA')"
   ]
  },
  {
   "cell_type": "code",
   "execution_count": 119,
   "metadata": {},
   "outputs": [
    {
     "data": {
      "text/plain": [
       "False"
      ]
     },
     "execution_count": 119,
     "metadata": {},
     "output_type": "execute_result"
    }
   ],
   "source": [
    "bool(phone) == True"
   ]
  },
  {
   "cell_type": "code",
   "execution_count": 118,
   "metadata": {},
   "outputs": [
    {
     "data": {
      "text/plain": [
       "False"
      ]
     },
     "execution_count": 118,
     "metadata": {},
     "output_type": "execute_result"
    }
   ],
   "source": [
    "phone == False"
   ]
  },
  {
   "cell_type": "code",
   "execution_count": null,
   "metadata": {},
   "outputs": [],
   "source": []
  },
  {
   "cell_type": "code",
   "execution_count": 111,
   "metadata": {},
   "outputs": [],
   "source": [
    "A = None"
   ]
  },
  {
   "cell_type": "code",
   "execution_count": 112,
   "metadata": {},
   "outputs": [
    {
     "ename": "NameError",
     "evalue": "name 'NULL' is not defined",
     "output_type": "error",
     "traceback": [
      "\u001b[0;31m---------------------------------------------------------------------------\u001b[0m",
      "\u001b[0;31mNameError\u001b[0m                                 Traceback (most recent call last)",
      "\u001b[0;32m<ipython-input-112-9b8d52fe3d81>\u001b[0m in \u001b[0;36m<module>\u001b[0;34m\u001b[0m\n\u001b[0;32m----> 1\u001b[0;31m \u001b[0mB\u001b[0m \u001b[0;34m=\u001b[0m \u001b[0mNULL\u001b[0m\u001b[0;34m\u001b[0m\u001b[0;34m\u001b[0m\u001b[0m\n\u001b[0m",
      "\u001b[0;31mNameError\u001b[0m: name 'NULL' is not defined"
     ]
    }
   ],
   "source": [
    "B = NULL"
   ]
  },
  {
   "cell_type": "markdown",
   "metadata": {},
   "source": [
    "# 11-9 xml 파일 불러오기"
   ]
  },
  {
   "cell_type": "code",
   "execution_count": null,
   "metadata": {},
   "outputs": [],
   "source": [
    "from bs4 import BeautifulSoup\n",
    "with open(\"books.xml\", \"r\", encoding='utf8') as f:\n",
    "    booksxml = f.read() \n",
    "    #- 파일을 문자열로 읽기\n",
    " \n",
    "soup = BeautifulSoup(booksxml,'lxml') \n",
    "#- BeautifulSoup 객체 생성 : lxml parser를 이용해 데이터 분석\n",
    "\n",
    "for title in soup.find_all('title'): \n",
    "#-  태그를 찾는 find_all 함수 이용\n",
    "    print(title.get_text())"
   ]
  },
  {
   "cell_type": "code",
   "execution_count": 1,
   "metadata": {},
   "outputs": [],
   "source": [
    "from bs4 import BeautifulSoup"
   ]
  },
  {
   "cell_type": "code",
   "execution_count": 4,
   "metadata": {},
   "outputs": [],
   "source": [
    "with open(\"/home/hyunyee/books.xml\", \"r\", encoding='utf8') as f:\n",
    "    booksxml = f.read()"
   ]
  },
  {
   "cell_type": "code",
   "execution_count": 7,
   "metadata": {},
   "outputs": [],
   "source": [
    "soup = BeautifulSoup(booksxml, 'lxml')"
   ]
  },
  {
   "cell_type": "code",
   "execution_count": 10,
   "metadata": {},
   "outputs": [
    {
     "name": "stdout",
     "output_type": "stream",
     "text": [
      "XML Developer's Guide\n",
      "Midnight Rain\n",
      "Maeve Ascendant\n",
      "Oberon's Legacy\n",
      "The Sundered Grail\n",
      "Lover Birds\n",
      "Splish Splash\n",
      "Creepy Crawlies\n",
      "Paradox Lost\n",
      "Microsoft .NET: The Programming Bible\n",
      "MSXML3: A Comprehensive Guide\n",
      "Visual Studio 7: A Comprehensive Guide\n"
     ]
    }
   ],
   "source": [
    "for title in soup.find_all('title'):\n",
    "    print(title.get_text())"
   ]
  },
  {
   "cell_type": "code",
   "execution_count": null,
   "metadata": {},
   "outputs": [],
   "source": []
  },
  {
   "cell_type": "markdown",
   "metadata": {},
   "source": [
    "# 12-3 데이터시각화- 막대그래프"
   ]
  },
  {
   "cell_type": "code",
   "execution_count": 13,
   "metadata": {},
   "outputs": [
    {
     "data": {
      "text/plain": [
       "Text(0.5, 1.0, \"Yuna's Test Result\")"
      ]
     },
     "execution_count": 13,
     "metadata": {},
     "output_type": "execute_result"
    },
    {
     "data": {
      "image/png": "[encoded data removed]",
      "text/plain": [
       "<Figure size 432x288 with 1 Axes>"
      ]
     },
     "metadata": {
      "needs_background": "light"
     },
     "output_type": "display_data"
    }
   ],
   "source": [
    "import matplotlib.pyplot as plt\n",
    "%matplotlib inline\n",
    "\n",
    "#그래프 데이터 \n",
    "subject = ['English', 'Math', 'Korean', 'Science', 'Computer']\n",
    "points = [50, 90, 80, 100, 40]\n",
    "\n",
    "# 축 그리기\n",
    "fig = plt.figure()\n",
    "ax1 = fig.add_subplot(1,1,1)\n",
    "\n",
    "# 그래프 그리기\n",
    "ax1.bar(subject, points)\n",
    "\n",
    "# 라벨, 타이틀 달기\n",
    "plt.xlabel('Subject')\n",
    "plt.ylabel('Points')\n",
    "plt.title(\"Yuna's Test Result\")"
   ]
  },
  {
   "cell_type": "markdown",
   "metadata": {},
   "source": [
    "# 12-5. 간단한 그래프 그리기 (3) plot 사용법 상세"
   ]
  },
  {
   "cell_type": "code",
   "execution_count": 14,
   "metadata": {},
   "outputs": [],
   "source": [
    "import numpy as np\n",
    "x = np.linspace(0, 10, 100) # linspace(start, stop, num(개수))로 사용되며 지정한 숫자사이에 일정한 간격으로 원하는 개수만큼 숫자를 생성"
   ]
  },
  {
   "cell_type": "code",
   "execution_count": 16,
   "metadata": {},
   "outputs": [
    {
     "data": {
      "image/png": "[encoded data removed]",
      "text/plain": [
       "<Figure size 432x288 with 1 Axes>"
      ]
     },
     "metadata": {
      "needs_background": "light"
     },
     "output_type": "display_data"
    }
   ],
   "source": [
    "plt.plot(x, np.sin(x), 'o', color='orange')\n",
    "plt.plot(x, np.cos(x), '--', color='black')\n",
    "plt.show()"
   ]
  },
  {
   "cell_type": "code",
   "execution_count": null,
   "metadata": {},
   "outputs": [],
   "source": []
  },
  {
   "cell_type": "code",
   "execution_count": 26,
   "metadata": {},
   "outputs": [
    {
     "data": {
      "text/plain": [
       "<AxesSubplot:>"
      ]
     },
     "execution_count": 26,
     "metadata": {},
     "output_type": "execute_result"
    },
    {
     "data": {
      "image/png": "[encoded data removed]",
      "text/plain": [
       "<Figure size 432x288 with 2 Axes>"
      ]
     },
     "metadata": {
      "needs_background": "light"
     },
     "output_type": "display_data"
    }
   ],
   "source": [
    "import numpy as np\n",
    "import pandas as pd\n",
    "\n",
    "fig, axes = plt.subplots(2, 1)\n",
    "data = pd.Series(np.random.rand(5), index=list('abcde'))\n",
    "data.plot(kind='bar', ax=axes[0], color='blue', alpha=1)  # ax=axes[0]: 그래프의 위치 2개중에서 첫번째에 그려라 라는 뜻\n",
    "data.plot(kind='barh', ax=axes[1], color='red', alpha=0.3)"
   ]
  },
  {
   "cell_type": "code",
   "execution_count": 31,
   "metadata": {},
   "outputs": [
    {
     "data": {
      "text/plain": [
       "<AxesSubplot:>"
      ]
     },
     "execution_count": 31,
     "metadata": {},
     "output_type": "execute_result"
    },
    {
     "data": {
      "image/png": "[encoded data removed]",
      "text/plain": [
       "<Figure size 432x288 with 1 Axes>"
      ]
     },
     "metadata": {
      "needs_background": "light"
     },
     "output_type": "display_data"
    }
   ],
   "source": [
    "df = pd.DataFrame(np.random.rand(6,4), columns=pd.Index(['A','B','C','D']))  # 6개의 행과 4개의 컬럼으로 된 데이터프레임을 만들어라\n",
    "df.plot(kind='line')"
   ]
  },
  {
   "cell_type": "code",
   "execution_count": 32,
   "metadata": {},
   "outputs": [
    {
     "data": {
      "text/html": [
       "<div>\n",
       "<style scoped>\n",
       "    .dataframe tbody tr th:only-of-type {\n",
       "        vertical-align: middle;\n",
       "    }\n",
       "\n",
       "    .dataframe tbody tr th {\n",
       "        vertical-align: top;\n",
       "    }\n",
       "\n",
       "    .dataframe thead th {\n",
       "        text-align: right;\n",
       "    }\n",
       "</style>\n",
       "<table border=\"1\" class=\"dataframe\">\n",
       "  <thead>\n",
       "    <tr style=\"text-align: right;\">\n",
       "      <th></th>\n",
       "      <th>A</th>\n",
       "      <th>B</th>\n",
       "      <th>C</th>\n",
       "      <th>D</th>\n",
       "    </tr>\n",
       "  </thead>\n",
       "  <tbody>\n",
       "    <tr>\n",
       "      <th>0</th>\n",
       "      <td>0.814211</td>\n",
       "      <td>0.082510</td>\n",
       "      <td>0.428840</td>\n",
       "      <td>0.820886</td>\n",
       "    </tr>\n",
       "    <tr>\n",
       "      <th>1</th>\n",
       "      <td>0.481481</td>\n",
       "      <td>0.032244</td>\n",
       "      <td>0.804405</td>\n",
       "      <td>0.170454</td>\n",
       "    </tr>\n",
       "    <tr>\n",
       "      <th>2</th>\n",
       "      <td>0.026070</td>\n",
       "      <td>0.866759</td>\n",
       "      <td>0.042686</td>\n",
       "      <td>0.701818</td>\n",
       "    </tr>\n",
       "    <tr>\n",
       "      <th>3</th>\n",
       "      <td>0.400153</td>\n",
       "      <td>0.727096</td>\n",
       "      <td>0.968997</td>\n",
       "      <td>0.851604</td>\n",
       "    </tr>\n",
       "    <tr>\n",
       "      <th>4</th>\n",
       "      <td>0.238349</td>\n",
       "      <td>0.848589</td>\n",
       "      <td>0.128497</td>\n",
       "      <td>0.450173</td>\n",
       "    </tr>\n",
       "    <tr>\n",
       "      <th>5</th>\n",
       "      <td>0.496029</td>\n",
       "      <td>0.758773</td>\n",
       "      <td>0.921263</td>\n",
       "      <td>0.353269</td>\n",
       "    </tr>\n",
       "  </tbody>\n",
       "</table>\n",
       "</div>"
      ],
      "text/plain": [
       "          A         B         C         D\n",
       "0  0.814211  0.082510  0.428840  0.820886\n",
       "1  0.481481  0.032244  0.804405  0.170454\n",
       "2  0.026070  0.866759  0.042686  0.701818\n",
       "3  0.400153  0.727096  0.968997  0.851604\n",
       "4  0.238349  0.848589  0.128497  0.450173\n",
       "5  0.496029  0.758773  0.921263  0.353269"
      ]
     },
     "execution_count": 32,
     "metadata": {},
     "output_type": "execute_result"
    }
   ],
   "source": [
    "df"
   ]
  },
  {
   "cell_type": "code",
   "execution_count": null,
   "metadata": {},
   "outputs": [],
   "source": []
  },
  {
   "cell_type": "code",
   "execution_count": null,
   "metadata": {},
   "outputs": [],
   "source": []
  },
  {
   "cell_type": "code",
   "execution_count": null,
   "metadata": {},
   "outputs": [],
   "source": []
  }
 ],
 "metadata": {
  "kernelspec": {
   "display_name": "aiffel",
   "language": "python",
   "name": "aiffel"
  },
  "language_info": {
   "codemirror_mode": {
    "name": "ipython",
    "version": 3
   },
   "file_extension": ".py",
   "mimetype": "text/x-python",
   "name": "python",
   "nbconvert_exporter": "python",
   "pygments_lexer": "ipython3",
   "version": "3.7.8"
  }
 },
 "nbformat": 4,
 "nbformat_minor": 4
}
