{
 "cells": [
  {
   "cell_type": "markdown",
   "metadata": {},
   "source": [
    "# AIFFEL코드 연습    \n",
    "\n",
    "https://sbabasic.aiffel.io/steps/189"
   ]
  },
  {
   "cell_type": "markdown",
   "metadata": {},
   "source": [
    "## 1. 9/8(화) 깜짝퀴즈    \n",
    "두 정수 a, b가 주어졌을 때 a와 b 사이에 속한 모든 정수의 합을 리턴하는 함수, solution을 완성하세요.\n",
    "예를 들어 a = 3, b = 5인 경우, 3 + 4 + 5 = 12이므로 12를 리턴합니다.\n",
    "앞으로 정답의 형태는 오늘 배운 함수로!! 진행해주시면 됩니다. 예를 들어 위의 문제 같은 경우는 입력값을 a, b로 받고 리턴은 12를 한다했으므로\n",
    "def solution(a, b):\n",
    "    ...\n",
    "    return answer\n",
    "의 꼴로 짜주시면 됩니다! 그러니 solution(3, 5) 의 결과는 12가 나와야겠죠?\n",
    "+++\n",
    "결과를 .py 포맷으로 저장하시고 개인 github repository에 업로드하는 것까지 해봅시다!"
   ]
  },
  {
   "cell_type": "code",
   "execution_count": 1,
   "metadata": {},
   "outputs": [],
   "source": [
    "## 풀이1\n",
    "\n",
    "def solution(a,b):\n",
    "    answer = a\n",
    "    while a<b:\n",
    "        a +=1\n",
    "        answer +=a\n",
    "    return answer\n",
    "        "
   ]
  },
  {
   "cell_type": "code",
   "execution_count": 2,
   "metadata": {},
   "outputs": [
    {
     "data": {
      "text/plain": [
       "12"
      ]
     },
     "execution_count": 2,
     "metadata": {},
     "output_type": "execute_result"
    }
   ],
   "source": [
    "solution(3,5)"
   ]
  },
  {
   "cell_type": "code",
   "execution_count": 10,
   "metadata": {},
   "outputs": [],
   "source": [
    "## 풀이2\n",
    "\n",
    "def solution(a,b):\n",
    "    if a>=b:\n",
    "        answer=a\n",
    "    else:\n",
    "        answer=a\n",
    "        while a<b:\n",
    "            a +=1\n",
    "            answer +=a\n",
    "    return answer"
   ]
  },
  {
   "cell_type": "code",
   "execution_count": 11,
   "metadata": {},
   "outputs": [
    {
     "data": {
      "text/plain": [
       "12"
      ]
     },
     "execution_count": 11,
     "metadata": {},
     "output_type": "execute_result"
    }
   ],
   "source": [
    "solution(3,5)"
   ]
  },
  {
   "cell_type": "markdown",
   "metadata": {},
   "source": [
    "## 2. 9/9(수) 깜짝퀴즈"
   ]
  },
  {
   "cell_type": "code",
   "execution_count": 1,
   "metadata": {},
   "outputs": [
    {
     "data": {
      "text/plain": [
       "5.551115123125783e-17"
      ]
     },
     "execution_count": 1,
     "metadata": {},
     "output_type": "execute_result"
    }
   ],
   "source": [
    "0.1 + 0.2 - 0.3"
   ]
  },
  {
   "cell_type": "code",
   "execution_count": 2,
   "metadata": {},
   "outputs": [
    {
     "data": {
      "text/plain": [
       "0.30000000000000004"
      ]
     },
     "execution_count": 2,
     "metadata": {},
     "output_type": "execute_result"
    }
   ],
   "source": [
    "0.1 + 0.2"
   ]
  },
  {
   "cell_type": "code",
   "execution_count": 3,
   "metadata": {},
   "outputs": [
    {
     "data": {
      "text/plain": [
       "0.0"
      ]
     },
     "execution_count": 3,
     "metadata": {},
     "output_type": "execute_result"
    }
   ],
   "source": [
    "0.0"
   ]
  },
  {
   "cell_type": "code",
   "execution_count": 5,
   "metadata": {},
   "outputs": [
    {
     "data": {
      "text/plain": [
       "False"
      ]
     },
     "execution_count": 5,
     "metadata": {},
     "output_type": "execute_result"
    }
   ],
   "source": [
    "bool(None)"
   ]
  },
  {
   "cell_type": "code",
   "execution_count": 7,
   "metadata": {},
   "outputs": [],
   "source": [
    "## 피보나치킨 함수 만들기 F3-23\n",
    "\n",
    "def fibonacci(n):\n",
    "    if n<=2:\n",
    "        number=1\n",
    "    else:\n",
    "        number = fibonacci(n-1) + fibonacci(n-2)\n",
    "    return number"
   ]
  },
  {
   "cell_type": "code",
   "execution_count": 8,
   "metadata": {},
   "outputs": [
    {
     "data": {
      "text/plain": [
       "5"
      ]
     },
     "execution_count": 8,
     "metadata": {},
     "output_type": "execute_result"
    }
   ],
   "source": [
    "fibonacci(5)"
   ]
  },
  {
   "cell_type": "code",
   "execution_count": 13,
   "metadata": {},
   "outputs": [
    {
     "data": {
      "text/plain": [
       "6765"
      ]
     },
     "execution_count": 13,
     "metadata": {},
     "output_type": "execute_result"
    }
   ],
   "source": [
    "fibonacci(20)"
   ]
  },
  {
   "cell_type": "code",
   "execution_count": 14,
   "metadata": {},
   "outputs": [],
   "source": [
    "## 메모이제이션(memoization) 프로그래밍에서 중간밧을 계산해서 기억해두는 방법\n",
    "\n",
    "memory= {1:1, 2:1}\n",
    "\n",
    "def fibonacci(n):\n",
    "    if n in memory:\n",
    "        number = memory[n]\n",
    "    else:\n",
    "        number = fibonacci(n-1) + fibonacci(n-2)\n",
    "        memory[n] = number\n",
    "    return number"
   ]
  },
  {
   "cell_type": "code",
   "execution_count": 15,
   "metadata": {},
   "outputs": [
    {
     "data": {
      "text/plain": [
       "5"
      ]
     },
     "execution_count": 15,
     "metadata": {},
     "output_type": "execute_result"
    }
   ],
   "source": [
    "fibonacci(5)"
   ]
  },
  {
   "cell_type": "code",
   "execution_count": 16,
   "metadata": {},
   "outputs": [
    {
     "data": {
      "text/plain": [
       "{1: 1, 2: 1, 3: 2, 4: 3, 5: 5}"
      ]
     },
     "execution_count": 16,
     "metadata": {},
     "output_type": "execute_result"
    }
   ],
   "source": [
    "memory"
   ]
  },
  {
   "cell_type": "code",
   "execution_count": 17,
   "metadata": {},
   "outputs": [],
   "source": [
    "import struct\n",
    "def float_to_bin(num):\n",
    "    return format(struct.unpack('!I', struct.pack('!f', num))[0], '032b')"
   ]
  },
  {
   "cell_type": "code",
   "execution_count": 18,
   "metadata": {},
   "outputs": [
    {
     "data": {
      "text/plain": [
       "'00111111100000000000000000000000'"
      ]
     },
     "execution_count": 18,
     "metadata": {},
     "output_type": "execute_result"
    }
   ],
   "source": [
    "float_to_bin(1)"
   ]
  },
  {
   "cell_type": "markdown",
   "metadata": {},
   "source": [
    "# 6-3 최종코드"
   ]
  },
  {
   "cell_type": "code",
   "execution_count": 12,
   "metadata": {},
   "outputs": [
    {
     "name": "stdout",
     "output_type": "stream",
     "text": [
      "Enter a number (<Enter key> to quit)2\n",
      "Enter a number (<Enter key> to quit)3\n",
      "Enter a number (<Enter key> to quit)4\n",
      "Enter a number (<Enter key> to quit)5\n",
      "Enter a number (<Enter key> to quit)\n",
      "당신이 입력한 숫자[2.0, 3.0, 4.0, 5.0]의 \n",
      "중앙값은3.5, 평균은3.5, 표준편차는1.2909944487358056입니다.\n"
     ]
    }
   ],
   "source": [
    "def numbers():\n",
    "    X=[]\n",
    "    while True:\n",
    "        number = input(\"Enter a number (<Enter key> to quit)\") \n",
    "        while number !=\"\":\n",
    "            try:\n",
    "                x = float(number)\n",
    "                X.append(x)\n",
    "            except ValueError:\n",
    "                print('>>> NOT a number! Ignored..')\n",
    "            number = input(\"Enter a number (<Enter key> to quit)\")\n",
    "        if len(X) > 1:\n",
    "            return X\n",
    "\n",
    "def median(nums): \n",
    "    nums.sort()\n",
    "    size = len(nums)\n",
    "    p = size // 2\n",
    "    if size % 2 == 0:\n",
    "        pr = p\n",
    "        pl = p-1\n",
    "        mid = float((nums[pl]+nums[pr])/2)\n",
    "    else:\n",
    "        mid = nums[p]\n",
    "    return mid\n",
    "\n",
    "def means(nums):\n",
    "    total = 0.0\n",
    "    for i in range(len(nums)):\n",
    "        total = total + nums[i]\n",
    "    return total / len(nums)\n",
    "\n",
    "def std_dev(nums, avg):\n",
    "   texp = 0.0\n",
    "   for i in range(len(nums)):\n",
    "       texp = texp + (nums[i] - avg) ** 2\n",
    "   return (texp/(len(nums)-1)) ** 0.5\n",
    "\n",
    "def main():\n",
    "    X = numbers()\n",
    "    med = median(X)\n",
    "    avg = means(X)\n",
    "    std = std_dev(X, avg)\n",
    "    print(\"당신이 입력한 숫자{}의 \".format(X))\n",
    "    print(\"중앙값은{}, 평균은{}, 표준편차는{}입니다.\".format(med, avg, std))\n",
    "\n",
    "if __name__ == '__main__':\n",
    "    main()\n",
    "    "
   ]
  },
  {
   "cell_type": "markdown",
   "metadata": {},
   "source": [
    "# 6.5 Numpy 주요기능"
   ]
  },
  {
   "cell_type": "code",
   "execution_count": 2,
   "metadata": {},
   "outputs": [
    {
     "name": "stdout",
     "output_type": "stream",
     "text": [
      "[1, 2, 3, 4]\n"
     ]
    },
    {
     "ename": "TypeError",
     "evalue": "can only concatenate list (not \"int\") to list",
     "output_type": "error",
     "traceback": [
      "\u001b[0;31m---------------------------------------------------------------------------\u001b[0m",
      "\u001b[0;31mTypeError\u001b[0m                                 Traceback (most recent call last)",
      "\u001b[0;32m<ipython-input-2-4537b9f1d4ec>\u001b[0m in \u001b[0;36m<module>\u001b[0;34m\u001b[0m\n\u001b[1;32m      2\u001b[0m \u001b[0;34m\u001b[0m\u001b[0m\n\u001b[1;32m      3\u001b[0m \u001b[0mprint\u001b[0m\u001b[0;34m(\u001b[0m\u001b[0;34m[\u001b[0m\u001b[0;36m1\u001b[0m\u001b[0;34m,\u001b[0m\u001b[0;36m2\u001b[0m\u001b[0;34m]\u001b[0m\u001b[0;34m+\u001b[0m\u001b[0;34m[\u001b[0m\u001b[0;36m3\u001b[0m\u001b[0;34m,\u001b[0m\u001b[0;36m4\u001b[0m\u001b[0;34m]\u001b[0m\u001b[0;34m)\u001b[0m\u001b[0;34m\u001b[0m\u001b[0;34m\u001b[0m\u001b[0m\n\u001b[0;32m----> 4\u001b[0;31m \u001b[0mprint\u001b[0m\u001b[0;34m(\u001b[0m\u001b[0;34m[\u001b[0m\u001b[0;36m1\u001b[0m\u001b[0;34m,\u001b[0m\u001b[0;36m2\u001b[0m\u001b[0;34m]\u001b[0m\u001b[0;34m+\u001b[0m\u001b[0;36m3\u001b[0m\u001b[0;34m)\u001b[0m\u001b[0;34m\u001b[0m\u001b[0;34m\u001b[0m\u001b[0m\n\u001b[0m",
      "\u001b[0;31mTypeError\u001b[0m: can only concatenate list (not \"int\") to list"
     ]
    }
   ],
   "source": [
    "import numpy as np\n",
    "\n",
    "print([1,2]+[3,4])\n",
    "print([1,2]+3)"
   ]
  },
  {
   "cell_type": "code",
   "execution_count": 3,
   "metadata": {},
   "outputs": [
    {
     "name": "stdout",
     "output_type": "stream",
     "text": [
      "[4 6]\n",
      "[4 5]\n"
     ]
    }
   ],
   "source": [
    "import numpy as np\n",
    "print(np.array([1,2])+np.array([3,4]))\n",
    "print(np.array([1,2])+3)"
   ]
  },
  {
   "cell_type": "code",
   "execution_count": 4,
   "metadata": {},
   "outputs": [
    {
     "name": "stdout",
     "output_type": "stream",
     "text": [
      "0.41852896292483877\n",
      "9\n",
      "7\n"
     ]
    }
   ],
   "source": [
    "# 의사 난수를 생성하는 예제입니다. 여러번 실행해 보세요.\n",
    "\n",
    "print(np.random.random())   # 0에서 1사이의 실수형 난수 하나를 생성합니다. \n",
    "\n",
    "print(np.random.randint(0,10))   # 0~9 사이 1개 정수형 난수 하나를 생성합니다. \n",
    "\n",
    "print(np.random.choice([0,1,2,3,4,5,6,7,8,9]))   # 리스트에 주어진 값 중 하나를 랜덤하게 골라줍니다."
   ]
  },
  {
   "cell_type": "code",
   "execution_count": 5,
   "metadata": {},
   "outputs": [
    {
     "name": "stdout",
     "output_type": "stream",
     "text": [
      "[7 4 5 6 8 3 0 2 9 1]\n",
      "[2 4 7 5 1 6 9 8 0 3]\n"
     ]
    }
   ],
   "source": [
    "# 아래 2가지는 기능면에서 동일합니다. 원소의 순서를 임의로 뒤바꾸어 줍니다. \n",
    "\n",
    "print(np.random.permutation(10))   \n",
    "print(np.random.permutation([0,1,2,3,4,5,6,7,8,9]))"
   ]
  },
  {
   "cell_type": "code",
   "execution_count": 6,
   "metadata": {},
   "outputs": [
    {
     "name": "stdout",
     "output_type": "stream",
     "text": [
      "[-0.33129736  0.32758621  0.95171034 -0.28183026 -0.07483665]\n",
      "[-0.83552349  0.47434357 -0.44134453 -0.82321478 -0.05827091]\n"
     ]
    }
   ],
   "source": [
    "# 아래 기능들은 어떤 분포를 따르는 변수를 임의로 표본추출해 줍니다. \n",
    "\n",
    "# 이것은 정규분포를 따릅니다.\n",
    "print(np.random.normal(loc=0, scale=1, size=5))    # 평균(loc), 표준편차(scale), 추출개수(size)를 조절해 보세요.\n",
    "\n",
    "# 이것은 균등분포를 따릅니다. \n",
    "print(np.random.uniform(low=-1, high=1, size=5))  # 최소(low), 최대(high), 추출개수(size)를 조절해 보세요."
   ]
  },
  {
   "cell_type": "markdown",
   "metadata": {},
   "source": [
    "## 6.5(8) 전치행렬"
   ]
  },
  {
   "cell_type": "code",
   "execution_count": 7,
   "metadata": {},
   "outputs": [
    {
     "name": "stdout",
     "output_type": "stream",
     "text": [
      "[[[ 0  1  2  3]\n",
      "  [ 4  5  6  7]\n",
      "  [ 8  9 10 11]]\n",
      "\n",
      " [[12 13 14 15]\n",
      "  [16 17 18 19]\n",
      "  [20 21 22 23]]]\n"
     ]
    }
   ],
   "source": [
    "A = np.arange(24).reshape(2,3,4)\n",
    "print(A)               # A는 (2,3,4)의 shape를 가진 행렬입니다. "
   ]
  },
  {
   "cell_type": "code",
   "execution_count": 8,
   "metadata": {},
   "outputs": [
    {
     "name": "stdout",
     "output_type": "stream",
     "text": [
      "[[[ 0 12]\n",
      "  [ 4 16]\n",
      "  [ 8 20]]\n",
      "\n",
      " [[ 1 13]\n",
      "  [ 5 17]\n",
      "  [ 9 21]]\n",
      "\n",
      " [[ 2 14]\n",
      "  [ 6 18]\n",
      "  [10 22]]\n",
      "\n",
      " [[ 3 15]\n",
      "  [ 7 19]\n",
      "  [11 23]]]\n"
     ]
    }
   ],
   "source": [
    "print(A.T)            # 이것은 A의 전치행렬입니다. "
   ]
  },
  {
   "cell_type": "code",
   "execution_count": 13,
   "metadata": {},
   "outputs": [
    {
     "name": "stdout",
     "output_type": "stream",
     "text": [
      "[[0 1 2]]\n"
     ]
    }
   ],
   "source": [
    "x= np.arange(3).reshape(1,3)\n",
    "print(x)"
   ]
  },
  {
   "cell_type": "code",
   "execution_count": 15,
   "metadata": {},
   "outputs": [
    {
     "name": "stdout",
     "output_type": "stream",
     "text": [
      "[[0]\n",
      " [1]\n",
      " [2]]\n"
     ]
    }
   ],
   "source": [
    "print(x.T)"
   ]
  },
  {
   "cell_type": "code",
   "execution_count": 16,
   "metadata": {},
   "outputs": [
    {
     "name": "stdout",
     "output_type": "stream",
     "text": [
      "(4, 3, 2)\n"
     ]
    }
   ],
   "source": [
    "print(A.T.shape)"
   ]
  },
  {
   "cell_type": "code",
   "execution_count": 18,
   "metadata": {},
   "outputs": [
    {
     "name": "stdout",
     "output_type": "stream",
     "text": [
      "[[[1. 1.]\n",
      "  [1. 1.]\n",
      "  [1. 1.]]\n",
      "\n",
      " [[1. 1.]\n",
      "  [1. 1.]\n",
      "  [1. 1.]]\n",
      "\n",
      " [[1. 1.]\n",
      "  [1. 1.]\n",
      "  [1. 1.]]\n",
      "\n",
      " [[1. 1.]\n",
      "  [1. 1.]\n",
      "  [1. 1.]]]\n"
     ]
    }
   ],
   "source": [
    "x= np.ones((4,3,2))\n",
    "print(x)"
   ]
  },
  {
   "cell_type": "markdown",
   "metadata": {},
   "source": [
    "# 6-10. 간단한 딕셔너리(dictionary)를 활용한 판타지 게임 logic 설계"
   ]
  },
  {
   "cell_type": "code",
   "execution_count": 19,
   "metadata": {},
   "outputs": [],
   "source": [
    "treasure_box = {'rope':2, \n",
    "                'apple':10, \n",
    "                'torch': 6, \n",
    "                'gold coin': 50, \n",
    "                'knife': 1, \n",
    "                'arrow': 30}"
   ]
  },
  {
   "cell_type": "code",
   "execution_count": 20,
   "metadata": {},
   "outputs": [],
   "source": [
    "coin_per_treasure = {'rope':1,\n",
    "        'apple':2,\n",
    "        'torch': 2,\n",
    "        'gold coin': 5, \n",
    "        'knife': 30,\n",
    "        'arrow': 1}\n"
   ]
  },
  {
   "cell_type": "code",
   "execution_count": 21,
   "metadata": {},
   "outputs": [
    {
     "data": {
      "text/plain": [
       "{'coin': 1, 'pcs': 2}"
      ]
     },
     "execution_count": 21,
     "metadata": {},
     "output_type": "execute_result"
    }
   ],
   "source": [
    "treasure_box = {'rope': {'coin': 1, 'pcs': 2},\n",
    "                'apple': {'coin': 2, 'pcs': 10},\n",
    "                'torch': {'coin': 2, 'pcs': 6},\n",
    "                'gold coin': {'coin': 5, 'pcs': 50},\n",
    "                'knife': {'coin': 1, 'pcs': 30}}\n",
    "treasure_box['rope']"
   ]
  },
  {
   "cell_type": "code",
   "execution_count": 25,
   "metadata": {},
   "outputs": [],
   "source": [
    "def total_silver(treasure_box, coin_per_treasure):\n",
    "    ## type your code\n",
    "    total_coin = 0\n",
    "    for treasure in treasure_box:\n",
    "        coin = coin_per_treasure[treasure] * treasure_box[treasure]['pcs']\n",
    "        print(\"{} : {}coins/pcs * {}pcs = {} coins\".format(\n",
    "          treasure, coin_per_treasure[treasure], treasure_box[treasure]['pcs'], coin))\n",
    "        total_coin += coin\n",
    "    print('total_coin : ', total_coin)"
   ]
  },
  {
   "cell_type": "code",
   "execution_count": 27,
   "metadata": {},
   "outputs": [
    {
     "ename": "NameError",
     "evalue": "name 'total_coin' is not defined",
     "output_type": "error",
     "traceback": [
      "\u001b[0;31m---------------------------------------------------------------------------\u001b[0m",
      "\u001b[0;31mNameError\u001b[0m                                 Traceback (most recent call last)",
      "\u001b[0;32m<ipython-input-27-5eca3effa5c3>\u001b[0m in \u001b[0;36m<module>\u001b[0;34m\u001b[0m\n\u001b[0;32m----> 1\u001b[0;31m \u001b[0mprint\u001b[0m\u001b[0;34m(\u001b[0m\u001b[0;34m'total_coin : '\u001b[0m\u001b[0;34m,\u001b[0m \u001b[0mtotal_coin\u001b[0m\u001b[0;34m)\u001b[0m\u001b[0;34m\u001b[0m\u001b[0;34m\u001b[0m\u001b[0m\n\u001b[0m",
      "\u001b[0;31mNameError\u001b[0m: name 'total_coin' is not defined"
     ]
    }
   ],
   "source": [
    " print('total_coin : ', total_coin)"
   ]
  },
  {
   "cell_type": "code",
   "execution_count": 30,
   "metadata": {},
   "outputs": [
    {
     "name": "stdout",
     "output_type": "stream",
     "text": [
      "Congraturation!! you got a treasure box!!\n",
      "You have rope 2pcs\n",
      "You have apple 10pcs\n",
      "You have torch 6pcs\n",
      "You have gold coin 50pcs\n",
      "You have knife 30pcs\n",
      "rope : 1coins/pcs * 2pcs = 2 coins\n",
      "apple : 2coins/pcs * 10pcs = 20 coins\n",
      "torch : 2coins/pcs * 6pcs = 12 coins\n",
      "gold coin : 5coins/pcs * 50pcs = 250 coins\n",
      "knife : 30coins/pcs * 30pcs = 900 coins\n",
      "total_coin :  1184\n"
     ]
    }
   ],
   "source": [
    "def display_stuff(treasure_box):\n",
    "    ## type your code\n",
    "    print(\"Congraturation!! you got a treasure box!!\")\n",
    "    for treasure in treasure_box:\n",
    "             print(\"You have {} {}pcs\".format(treasure, treasure_box[treasure]['pcs']))\n",
    "\n",
    "def total_silver(treasure_box, coin_per_treasure):\n",
    "    ## type your code\n",
    "    total_coin = 0\n",
    "    for treasure in treasure_box:\n",
    "        coin = coin_per_treasure[treasure] * treasure_box[treasure]['pcs']\n",
    "        print(\"{} : {}coins/pcs * {}pcs = {} coins\".format(\n",
    "          treasure, coin_per_treasure[treasure], treasure_box[treasure]['pcs'], coin))\n",
    "        total_coin += coin\n",
    "    print('total_coin : ', total_coin)\n",
    "display_stuff(treasure_box)\n",
    "total_silver(treasure_box, coin_per_treasure)"
   ]
  },
  {
   "cell_type": "markdown",
   "metadata": {},
   "source": [
    "# 6-13 pandas 실습"
   ]
  },
  {
   "cell_type": "code",
   "execution_count": 31,
   "metadata": {},
   "outputs": [
    {
     "data": {
      "text/plain": [
       "pandas.core.frame.DataFrame"
      ]
     },
     "execution_count": 31,
     "metadata": {},
     "output_type": "execute_result"
    }
   ],
   "source": [
    "import pandas as pd\n",
    "import os\n",
    "\n",
    "csv_path = os.getenv(\"HOME\") + \"/workplace/covid19_italy_region.csv\"\n",
    "data = pd.read_csv(csv_path)\n",
    "type(data)"
   ]
  },
  {
   "cell_type": "code",
   "execution_count": 32,
   "metadata": {},
   "outputs": [
    {
     "data": {
      "text/plain": [
       "Index(['SNo', 'Date', 'Country', 'RegionCode', 'RegionName', 'Latitude',\n",
       "       'Longitude', 'HospitalizedPatients', 'IntensiveCarePatients',\n",
       "       'TotalHospitalizedPatients', 'HomeConfinement', 'CurrentPositiveCases',\n",
       "       'NewPositiveCases', 'Recovered', 'Deaths', 'TotalPositiveCases',\n",
       "       'TestsPerformed'],\n",
       "      dtype='object')"
      ]
     },
     "execution_count": 32,
     "metadata": {},
     "output_type": "execute_result"
    }
   ],
   "source": [
    "data.columns"
   ]
  },
  {
   "cell_type": "code",
   "execution_count": 33,
   "metadata": {},
   "outputs": [
    {
     "data": {
      "text/html": [
       "<div>\n",
       "<style scoped>\n",
       "    .dataframe tbody tr th:only-of-type {\n",
       "        vertical-align: middle;\n",
       "    }\n",
       "\n",
       "    .dataframe tbody tr th {\n",
       "        vertical-align: top;\n",
       "    }\n",
       "\n",
       "    .dataframe thead th {\n",
       "        text-align: right;\n",
       "    }\n",
       "</style>\n",
       "<table border=\"1\" class=\"dataframe\">\n",
       "  <thead>\n",
       "    <tr style=\"text-align: right;\">\n",
       "      <th></th>\n",
       "      <th>CurrentPositiveCases</th>\n",
       "      <th>NewPositiveCases</th>\n",
       "      <th>Recovered</th>\n",
       "      <th>Deaths</th>\n",
       "      <th>TotalPositiveCases</th>\n",
       "      <th>TestsPerformed</th>\n",
       "    </tr>\n",
       "  </thead>\n",
       "  <tbody>\n",
       "    <tr>\n",
       "      <th>CurrentPositiveCases</th>\n",
       "      <td>1.000000</td>\n",
       "      <td>0.892083</td>\n",
       "      <td>0.903833</td>\n",
       "      <td>0.937337</td>\n",
       "      <td>0.990303</td>\n",
       "      <td>0.886860</td>\n",
       "    </tr>\n",
       "    <tr>\n",
       "      <th>NewPositiveCases</th>\n",
       "      <td>0.892083</td>\n",
       "      <td>1.000000</td>\n",
       "      <td>0.760710</td>\n",
       "      <td>0.775184</td>\n",
       "      <td>0.865022</td>\n",
       "      <td>0.755386</td>\n",
       "    </tr>\n",
       "    <tr>\n",
       "      <th>Recovered</th>\n",
       "      <td>0.903833</td>\n",
       "      <td>0.760710</td>\n",
       "      <td>1.000000</td>\n",
       "      <td>0.986324</td>\n",
       "      <td>0.954026</td>\n",
       "      <td>0.741827</td>\n",
       "    </tr>\n",
       "    <tr>\n",
       "      <th>Deaths</th>\n",
       "      <td>0.937337</td>\n",
       "      <td>0.775184</td>\n",
       "      <td>0.986324</td>\n",
       "      <td>1.000000</td>\n",
       "      <td>0.975269</td>\n",
       "      <td>0.761221</td>\n",
       "    </tr>\n",
       "    <tr>\n",
       "      <th>TotalPositiveCases</th>\n",
       "      <td>0.990303</td>\n",
       "      <td>0.865022</td>\n",
       "      <td>0.954026</td>\n",
       "      <td>0.975269</td>\n",
       "      <td>1.000000</td>\n",
       "      <td>0.855529</td>\n",
       "    </tr>\n",
       "    <tr>\n",
       "      <th>TestsPerformed</th>\n",
       "      <td>0.886860</td>\n",
       "      <td>0.755386</td>\n",
       "      <td>0.741827</td>\n",
       "      <td>0.761221</td>\n",
       "      <td>0.855529</td>\n",
       "      <td>1.000000</td>\n",
       "    </tr>\n",
       "  </tbody>\n",
       "</table>\n",
       "</div>"
      ],
      "text/plain": [
       "                      CurrentPositiveCases  NewPositiveCases  Recovered  \\\n",
       "CurrentPositiveCases              1.000000          0.892083   0.903833   \n",
       "NewPositiveCases                  0.892083          1.000000   0.760710   \n",
       "Recovered                         0.903833          0.760710   1.000000   \n",
       "Deaths                            0.937337          0.775184   0.986324   \n",
       "TotalPositiveCases                0.990303          0.865022   0.954026   \n",
       "TestsPerformed                    0.886860          0.755386   0.741827   \n",
       "\n",
       "                        Deaths  TotalPositiveCases  TestsPerformed  \n",
       "CurrentPositiveCases  0.937337            0.990303        0.886860  \n",
       "NewPositiveCases      0.775184            0.865022        0.755386  \n",
       "Recovered             0.986324            0.954026        0.741827  \n",
       "Deaths                1.000000            0.975269        0.761221  \n",
       "TotalPositiveCases    0.975269            1.000000        0.855529  \n",
       "TestsPerformed        0.761221            0.855529        1.000000  "
      ]
     },
     "execution_count": 33,
     "metadata": {},
     "output_type": "execute_result"
    }
   ],
   "source": [
    "data.drop([ 'Latitude','Longitude','Country','Date','SNo', 'HospitalizedPatients','RegionCode','IntensiveCarePatients','TotalHospitalizedPatients','HomeConfinement'\n",
    "], axis=1, inplace=True)\n",
    "\n",
    "data.corr()"
   ]
  },
  {
   "cell_type": "markdown",
   "metadata": {},
   "source": [
    "# 7-5 클래스의 기본문법 속성과 메소드"
   ]
  },
  {
   "cell_type": "code",
   "execution_count": 85,
   "metadata": {},
   "outputs": [],
   "source": [
    "class Car:\n",
    "    color = 'red'\n",
    "    category = 'sports car'\n",
    "\n",
    "    def drive(self):\n",
    "        print(\"I'm driving\")\n",
    "\n",
    "    def accel(self, speed_up, current_speed=10):\n",
    "        self.speed_up = speed_up\n",
    "        self.current_speed = current_speed + speed_up\n",
    "        print(\"speed up\", self.speed_up, \"driving at\", self.current_speed)"
   ]
  },
  {
   "cell_type": "code",
   "execution_count": 36,
   "metadata": {},
   "outputs": [
    {
     "name": "stdout",
     "output_type": "stream",
     "text": [
      "<__main__.Car object at 0x7fc8bcf66690>\n"
     ]
    }
   ],
   "source": [
    "print(Car())"
   ]
  },
  {
   "cell_type": "code",
   "execution_count": 37,
   "metadata": {},
   "outputs": [],
   "source": [
    "mycar=Car()"
   ]
  },
  {
   "cell_type": "code",
   "execution_count": 38,
   "metadata": {},
   "outputs": [
    {
     "name": "stdout",
     "output_type": "stream",
     "text": [
      "red\n"
     ]
    }
   ],
   "source": [
    "print(mycar.color)"
   ]
  },
  {
   "cell_type": "code",
   "execution_count": 40,
   "metadata": {},
   "outputs": [
    {
     "name": "stdout",
     "output_type": "stream",
     "text": [
      "sports car\n"
     ]
    }
   ],
   "source": [
    "print(mycar.category)"
   ]
  },
  {
   "cell_type": "code",
   "execution_count": 41,
   "metadata": {},
   "outputs": [
    {
     "name": "stdout",
     "output_type": "stream",
     "text": [
      "I'm driving\n"
     ]
    }
   ],
   "source": [
    "mycar.drive()"
   ]
  },
  {
   "cell_type": "code",
   "execution_count": 43,
   "metadata": {},
   "outputs": [
    {
     "name": "stdout",
     "output_type": "stream",
     "text": [
      "speed up 0 driving at 10\n"
     ]
    }
   ],
   "source": [
    "mycar.accel(0,10)"
   ]
  },
  {
   "cell_type": "code",
   "execution_count": 44,
   "metadata": {},
   "outputs": [
    {
     "name": "stdout",
     "output_type": "stream",
     "text": [
      "I'm driving\n"
     ]
    }
   ],
   "source": [
    "Car.drive(mycar)"
   ]
  },
  {
   "cell_type": "code",
   "execution_count": 47,
   "metadata": {},
   "outputs": [
    {
     "ename": "SyntaxError",
     "evalue": "invalid syntax (<ipython-input-47-4588fcac7585>, line 1)",
     "output_type": "error",
     "traceback": [
      "\u001b[0;36m  File \u001b[0;32m\"<ipython-input-47-4588fcac7585>\"\u001b[0;36m, line \u001b[0;32m1\u001b[0m\n\u001b[0;31m    Car.accel(mycar).10\u001b[0m\n\u001b[0m                      ^\u001b[0m\n\u001b[0;31mSyntaxError\u001b[0m\u001b[0;31m:\u001b[0m invalid syntax\n"
     ]
    }
   ],
   "source": [
    "Car.accel(mycar).10"
   ]
  },
  {
   "cell_type": "code",
   "execution_count": null,
   "metadata": {},
   "outputs": [],
   "source": []
  },
  {
   "cell_type": "markdown",
   "metadata": {},
   "source": [
    "# 7-9. 클래스 조금 더 알아보기"
   ]
  },
  {
   "cell_type": "code",
   "execution_count": 2,
   "metadata": {},
   "outputs": [],
   "source": [
    "class Car:\n",
    "    Manufacture = \"India\"\n",
    "\n",
    "    def __init__(self, color='red', category='sedan'):\n",
    "        self.color = color\n",
    "        self.category = category\n",
    "\n",
    "    def drive(self):\n",
    "        print(\"I'm driving\")\n",
    "\n",
    "    def accel(self, speed_up, current_speed=10):\n",
    "        self.speed_up = speed_up\n",
    "        self.current_speed = current_speed + self.speed_up\n",
    "        print(\"speed up\", self.speed_up, \"driving at\", self.current_speed)"
   ]
  },
  {
   "cell_type": "code",
   "execution_count": 3,
   "metadata": {},
   "outputs": [],
   "source": [
    "class NewCar(Car):\n",
    "    def __init__(self, color, category, maker):\n",
    "        super().__init__(color, category)\n",
    "        self.maker = maker\n",
    "        self.boost = {1 : 0, 2 : 30, 3 : 50}\n",
    "\n",
    "    def fly(self):\n",
    "        print(\"I'm flying!! This is the new car!!\")\n",
    "\n",
    "    def accel(self, speed_up, level=1, current_speed=10):\n",
    "        self.speed_up = speed_up + self.boost[level]\n",
    "        self.current_speed = current_speed + self.speed_up\n",
    "        print(\"speed up\", self.speed_up, \"driving at\", self.current_speed)"
   ]
  },
  {
   "cell_type": "code",
   "execution_count": 4,
   "metadata": {},
   "outputs": [],
   "source": [
    "newcar= NewCar('blue', 'sedan', 'kia')"
   ]
  },
  {
   "cell_type": "code",
   "execution_count": 6,
   "metadata": {},
   "outputs": [
    {
     "name": "stdout",
     "output_type": "stream",
     "text": [
      "speed up 55 driving at 65\n"
     ]
    }
   ],
   "source": [
    "newcar.accel(5,3)"
   ]
  },
  {
   "cell_type": "code",
   "execution_count": 97,
   "metadata": {},
   "outputs": [
    {
     "name": "stdout",
     "output_type": "stream",
     "text": [
      "I'm flying!! This is the new car!!\n"
     ]
    }
   ],
   "source": [
    "newcar.fly()"
   ]
  },
  {
   "cell_type": "markdown",
   "metadata": {},
   "source": [
    "# 7.11 n면체 주사위 만들기 (2) 주 프로그램 - main 함수"
   ]
  },
  {
   "cell_type": "code",
   "execution_count": 7,
   "metadata": {},
   "outputs": [],
   "source": [
    "def main():\n",
    "    n = get_inputs()\n",
    "    mydice=FunnyDice(n)\n",
    "    mydice.throw()\n",
    "    print(\"행운의 숫자는?{}\". format(mydice.getval()))"
   ]
  },
  {
   "cell_type": "code",
   "execution_count": 13,
   "metadata": {},
   "outputs": [],
   "source": [
    "class FunnyDice:\n",
    "    def __init__(self,n):\n",
    "        self.n=n\n",
    "        \n",
    "    def throw(self):\n",
    "        pass\n",
    "    def getval(self):\n",
    "        pass\n",
    "    def setval(self, val):\n",
    "        pass"
   ]
  },
  {
   "cell_type": "code",
   "execution_count": 14,
   "metadata": {},
   "outputs": [],
   "source": [
    "from random import randrange\n",
    "\n",
    "class FunnyDice:\n",
    "    def __init__(self, n=6):\n",
    "        self.n = int(n)\n",
    "        self.numbers = list(range(1, n+1))\n",
    "        self.index = randrange(0, self.n)\n",
    "        self.val = self.numbers[self.index]"
   ]
  },
  {
   "cell_type": "code",
   "execution_count": 15,
   "metadata": {},
   "outputs": [],
   "source": [
    "from random import randrange\n",
    "\n",
    "class FunnyDice:\n",
    "    def throw(self):\n",
    "        self.index = randrange(0, self.n)\n",
    "        self.val = self.numbers[self.index]\n",
    "    \n",
    "    def getval(self):\n",
    "        return self.val"
   ]
  },
  {
   "cell_type": "code",
   "execution_count": 16,
   "metadata": {},
   "outputs": [],
   "source": [
    "from random import randrange\n",
    "\n",
    "class FunnyDice:    \n",
    "    def setval(self, val:int):\n",
    "        if val <= self.n:\n",
    "            self.val = val\n",
    "        else:\n",
    "            print(\"주사위에 없는 숫자입니다. 주사위는 1 ~ {0}까지 있습니다. \".format(self.n))\n",
    "            raise error"
   ]
  },
  {
   "cell_type": "code",
   "execution_count": 17,
   "metadata": {},
   "outputs": [],
   "source": [
    "###전체코드\n",
    "class FunnyDice:\n",
    "    def __init__(self, n=6):\n",
    "        self.n = int(n)\n",
    "        self.numbers = list(range(1, n+1))\n",
    "        self.index = randrange(0, self.n)\n",
    "        self.val = self.numbers[self.index]\n",
    "\n",
    "    def throw(self):\n",
    "        self.index = randrange(0, self.n)\n",
    "        self.val = self.numbers[self.index]\n",
    "\n",
    "    def getval(self):\n",
    "        return self.val\n",
    "\n",
    "    def setval(self, val):\n",
    "        if val <= self.n:\n",
    "            self.val = val\n",
    "        else:\n",
    "            print(\"주사위에 없는 숫자입니다. 주사위는 1 ~ {0}까지 있습니다. \".format(self.n))\n",
    "            raise error"
   ]
  },
  {
   "cell_type": "code",
   "execution_count": 19,
   "metadata": {},
   "outputs": [
    {
     "ename": "SyntaxError",
     "evalue": "EOL while scanning string literal (<ipython-input-19-4a09e28a0738>, line 1)",
     "output_type": "error",
     "traceback": [
      "\u001b[0;36m  File \u001b[0;32m\"<ipython-input-19-4a09e28a0738>\"\u001b[0;36m, line \u001b[0;32m1\u001b[0m\n\u001b[0;31m    FunnyDice= FunnyDice(\"3)\u001b[0m\n\u001b[0m                            ^\u001b[0m\n\u001b[0;31mSyntaxError\u001b[0m\u001b[0;31m:\u001b[0m EOL while scanning string literal\n"
     ]
    }
   ],
   "source": [
    "FunnyDice= FunnyDice(\"3)"
   ]
  },
  {
   "cell_type": "code",
   "execution_count": null,
   "metadata": {},
   "outputs": [],
   "source": []
  },
  {
   "cell_type": "markdown",
   "metadata": {},
   "source": [
    "# 8.3 파이썬을 더 잘 사용해보자"
   ]
  },
  {
   "cell_type": "code",
   "execution_count": 20,
   "metadata": {},
   "outputs": [],
   "source": [
    "my_list = ['a','b','c','d']\n",
    "\n",
    "# 인자로 받은 리스트로부터 데이터를 하나씩 가져오는 제너레이터를 리턴하는 함수\n",
    "def get_dataset_generator(my_list):\n",
    "    result_list = []\n",
    "    for i in range(2):\n",
    "        for j in my_list:\n",
    "            yield (i, j)\n",
    "            print('>>  1 data loaded..')"
   ]
  },
  {
   "cell_type": "code",
   "execution_count": 23,
   "metadata": {},
   "outputs": [
    {
     "name": "stdout",
     "output_type": "stream",
     "text": [
      "0 a\n",
      ">>  1 data loaded..\n",
      "0 b\n",
      ">>  1 data loaded..\n",
      "0 c\n",
      ">>  1 data loaded..\n",
      "0 d\n",
      ">>  1 data loaded..\n",
      "1 a\n",
      ">>  1 data loaded..\n",
      "1 b\n",
      ">>  1 data loaded..\n",
      "1 c\n",
      ">>  1 data loaded..\n",
      "1 d\n",
      ">>  1 data loaded..\n"
     ]
    }
   ],
   "source": [
    "dataset_generator = get_dataset_generator(my_list)\n",
    "for X, y in dataset_generator:\n",
    "    print(X, y)"
   ]
  },
  {
   "cell_type": "code",
   "execution_count": 25,
   "metadata": {},
   "outputs": [
    {
     "name": "stdout",
     "output_type": "stream",
     "text": [
      "5.0\n"
     ]
    }
   ],
   "source": [
    "a = 10\n",
    "b = 2\n",
    "try:\n",
    "    #실행 코드\n",
    "    print(a/b)\n",
    "\t\t\n",
    "except:\n",
    "    #에러가 발생했을 때 처리하는 코드\n",
    "    print('에러가 발생했습니다.')"
   ]
  },
  {
   "cell_type": "code",
   "execution_count": 38,
   "metadata": {},
   "outputs": [
    {
     "name": "stdout",
     "output_type": "stream",
     "text": [
      "finish :  p1\n",
      "finish :  p2\n",
      "finish :  p3\n",
      "finish :  p4\n",
      "time : 6.455041170120239\n"
     ]
    }
   ],
   "source": [
    "import time\n",
    "\n",
    "num_list = ['p1','p2', 'p3', 'p4']\n",
    "start = time.time()\n",
    "\n",
    "def count(name):\n",
    "    for i in range(0, 100000000):\n",
    "        a=3\n",
    "        \n",
    "    print(\"finish : \",name)\n",
    "\n",
    "for num in num_list:\n",
    "    count(num)\n",
    "\n",
    "print(\"time :\", time.time() - start)"
   ]
  },
  {
   "cell_type": "code",
   "execution_count": 36,
   "metadata": {},
   "outputs": [],
   "source": [
    "num_list = ['p1','p2', 'p3', 'p4', 'a1']\n",
    "start = time.time()"
   ]
  },
  {
   "cell_type": "code",
   "execution_count": 37,
   "metadata": {},
   "outputs": [
    {
     "name": "stdout",
     "output_type": "stream",
     "text": [
      "finish :  p1\n",
      "finish :  p2\n",
      "finish :  p3\n",
      "finish :  p4\n",
      "finish :  a1\n",
      "time : 9.534203290939331\n"
     ]
    }
   ],
   "source": [
    "for num in num_list:\n",
    "    count(num)\n",
    "\n",
    "print(\"time :\", time.time() - start)"
   ]
  },
  {
   "cell_type": "markdown",
   "metadata": {},
   "source": [
    "# 8.6 함수 사용하기"
   ]
  },
  {
   "cell_type": "code",
   "execution_count": 1,
   "metadata": {},
   "outputs": [],
   "source": [
    "list_data = [10, 20, 30, 40]\n",
    "list_data2 = [20, 30, 40, 50]"
   ]
  },
  {
   "cell_type": "code",
   "execution_count": 3,
   "metadata": {},
   "outputs": [
    {
     "data": {
      "text/plain": [
       "4"
      ]
     },
     "execution_count": 3,
     "metadata": {},
     "output_type": "execute_result"
    }
   ],
   "source": [
    "len(list_data)"
   ]
  },
  {
   "cell_type": "code",
   "execution_count": 6,
   "metadata": {},
   "outputs": [
    {
     "name": "stdout",
     "output_type": "stream",
     "text": [
      "[2, 4, 6]\n"
     ]
    }
   ],
   "source": [
    "def list_mul(x):\n",
    "     return x * 2\n",
    "\n",
    "result = list(map(list_mul, [1, 2, 3]))\n",
    "print(result)"
   ]
  },
  {
   "cell_type": "code",
   "execution_count": 7,
   "metadata": {},
   "outputs": [
    {
     "name": "stdout",
     "output_type": "stream",
     "text": [
      "[2, 4, 6]\n"
     ]
    }
   ],
   "source": [
    "result = list(map(lambda i: i * 2 , [1, 2, 3]))\n",
    "print(result)"
   ]
  },
  {
   "cell_type": "code",
   "execution_count": null,
   "metadata": {},
   "outputs": [],
   "source": []
  },
  {
   "cell_type": "code",
   "execution_count": null,
   "metadata": {},
   "outputs": [],
   "source": []
  },
  {
   "cell_type": "code",
   "execution_count": null,
   "metadata": {},
   "outputs": [],
   "source": []
  },
  {
   "cell_type": "code",
   "execution_count": null,
   "metadata": {},
   "outputs": [],
   "source": []
  },
  {
   "cell_type": "code",
   "execution_count": null,
   "metadata": {},
   "outputs": [],
   "source": []
  },
  {
   "cell_type": "code",
   "execution_count": null,
   "metadata": {},
   "outputs": [],
   "source": []
  },
  {
   "cell_type": "code",
   "execution_count": null,
   "metadata": {},
   "outputs": [],
   "source": []
  },
  {
   "cell_type": "code",
   "execution_count": null,
   "metadata": {},
   "outputs": [],
   "source": []
  }
 ],
 "metadata": {
  "kernelspec": {
   "display_name": "aiffel",
   "language": "python",
   "name": "aiffel"
  },
  "language_info": {
   "codemirror_mode": {
    "name": "ipython",
    "version": 3
   },
   "file_extension": ".py",
   "mimetype": "text/x-python",
   "name": "python",
   "nbconvert_exporter": "python",
   "pygments_lexer": "ipython3",
   "version": "3.7.8"
  }
 },
 "nbformat": 4,
 "nbformat_minor": 4
}
