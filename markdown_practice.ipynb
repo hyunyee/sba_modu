{
 "cells": [
  {
   "cell_type": "markdown",
   "metadata": {},
   "source": [
    "마크다운 셀로 변환하기 : esc + m (명령모드로 변환 후 m )\n",
    "\n",
    "    코드 셀로 변환하기 : esc + y (명령모드로 변환 후 y )\n",
    "    \n",
    "이 외에도 주피터 노트북에는 단축키가 많은데요, 다른 단축키가 궁금하다면 명령모드에서 H 를 눌러보세요.\n",
    "\n",
    "* 참고: https://gist.github.com/ihoneymon/652be052a0727ad59601"
   ]
  },
  {
   "cell_type": "markdown",
   "metadata": {},
   "source": [
    "# This is a H1\n",
    "====================================\n",
    "## This is a H2\n",
    "---\n",
    "### This is a H3\n",
    "#### This is a H4\n",
    "##### This is a H5\n",
    "###### This is a H6"
   ]
  },
  {
   "cell_type": "markdown",
   "metadata": {},
   "source": [
    "> This is a first blockqute.\n",
    ">\t> This is a second blockqute.\n",
    ">\t>\t> This is a third blockqute."
   ]
  },
  {
   "cell_type": "markdown",
   "metadata": {},
   "source": [
    "1. 첫번째\n",
    "3. 세번째\n",
    "2. 두번째"
   ]
  },
  {
   "cell_type": "markdown",
   "metadata": {},
   "source": [
    "* 빨강\n",
    "  * 녹색\n",
    "    * 파랑\n",
    "\n",
    "+ 빨강\n",
    "  + 녹색\n",
    "    + 파랑\n",
    "\n",
    "- 빨강\n",
    "  - 녹색\n",
    "    - 파랑"
   ]
  },
  {
   "cell_type": "markdown",
   "metadata": {},
   "source": [
    "* 1단계 '*'\n",
    "  - 2단계 '-'\n",
    "    + 3단계 '+'\n",
    "      + 4단계 '+'\n",
    "          * 5step '*'"
   ]
  },
  {
   "cell_type": "markdown",
   "metadata": {},
   "source": [
    "This is a normal paragraph:\n",
    "\n",
    "    This is a code block.\n",
    "    \n",
    "end code block."
   ]
  },
  {
   "cell_type": "markdown",
   "metadata": {},
   "source": [
    "### 링크달기\n",
    "[구글](www.google.com)"
   ]
  },
  {
   "cell_type": "markdown",
   "metadata": {},
   "source": [
    "### 볼드체, 이태리체, 취소선 등 강조하기\n",
    "\n",
    "*single asterisks*    \n",
    "_singel underscores_    \n",
    "**double asterisks**    \n",
    "__douvle underscores__    \n",
    "~~cancelline~~     # 줄바꿈의 위에서는 문장 맨끝에 3개이상의 띄어쓰기를 해야함!!!    "
   ]
  },
  {
   "cell_type": "markdown",
   "metadata": {},
   "source": [
    "*single asterisks*\n",
    "_single underscores_\n",
    "**double asterisks**\n",
    "__double underscores__\n",
    "~~cancelline~~"
   ]
  },
  {
   "cell_type": "markdown",
   "metadata": {},
   "source": [
    "### 코드블럭 입히기\n",
    "\n",
    "print(\"Hello Markdown\")\n",
    "\n",
    "```\n",
    "print(\"Hello Markdown\")\n",
    "```\n"
   ]
  },
  {
   "cell_type": "markdown",
   "metadata": {},
   "source": [
    "### 이미지 삽입하기\n",
    "\n",
    "\n",
    "![Alt text](/home/hyunyee/workplace/loverduck.png)"
   ]
  },
  {
   "cell_type": "markdown",
   "metadata": {},
   "source": [
    "\n",
    "## 이미지 사이즈조절 및 html로 삽입하기\n",
    "\n",
    "<img src=\"/home/hyunyee/workplace/loverduck.png\" width=\"450px\" height=\"300px\"></img><br/>"
   ]
  },
  {
   "cell_type": "code",
   "execution_count": null,
   "metadata": {},
   "outputs": [],
   "source": []
  },
  {
   "cell_type": "code",
   "execution_count": null,
   "metadata": {},
   "outputs": [],
   "source": []
  },
  {
   "cell_type": "code",
   "execution_count": null,
   "metadata": {},
   "outputs": [],
   "source": []
  },
  {
   "cell_type": "code",
   "execution_count": null,
   "metadata": {},
   "outputs": [],
   "source": []
  }
 ],
 "metadata": {
  "kernelspec": {
   "display_name": "datascience",
   "language": "python",
   "name": "datascience"
  },
  "language_info": {
   "codemirror_mode": {
    "name": "ipython",
    "version": 3
   },
   "file_extension": ".py",
   "mimetype": "text/x-python",
   "name": "python",
   "nbconvert_exporter": "python",
   "pygments_lexer": "ipython3",
   "version": "3.8.5"
  }
 },
 "nbformat": 4,
 "nbformat_minor": 4
}
